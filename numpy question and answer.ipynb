{
 "cells": [
  {
   "cell_type": "code",
   "execution_count": 75,
   "metadata": {},
   "outputs": [],
   "source": [
    "import numpy as np"
   ]
  },
  {
   "cell_type": "code",
   "execution_count": 76,
   "metadata": {},
   "outputs": [],
   "source": [
    "np.set_printoptions(precision=2)"
   ]
  },
  {
   "cell_type": "code",
   "execution_count": 77,
   "metadata": {},
   "outputs": [
    {
     "name": "stdout",
     "output_type": "stream",
     "text": [
      "[0. 0. 0. 0. 0. 0. 0. 0. 0. 0.]\n"
     ]
    }
   ],
   "source": [
    "#Write a NumPy program to create an array of 10 zeros\n",
    "a=np.zeros(10)\n",
    "print(a)"
   ]
  },
  {
   "cell_type": "code",
   "execution_count": 78,
   "metadata": {},
   "outputs": [
    {
     "name": "stdout",
     "output_type": "stream",
     "text": [
      "[1. 1. 1. 1. 1. 1. 1. 1. 1. 1.]\n"
     ]
    }
   ],
   "source": [
    "#Write a NumPy program to create an array of 10 ones.\n",
    "a=np.ones(10)\n",
    "print(a)"
   ]
  },
  {
   "cell_type": "code",
   "execution_count": 79,
   "metadata": {},
   "outputs": [
    {
     "name": "stdout",
     "output_type": "stream",
     "text": [
      "[0 1 2 3 4 5 6 7 8]\n"
     ]
    },
    {
     "data": {
      "text/plain": [
       "array([[0, 1, 2],\n",
       "       [3, 4, 5],\n",
       "       [6, 7, 8]])"
      ]
     },
     "execution_count": 79,
     "metadata": {},
     "output_type": "execute_result"
    }
   ],
   "source": [
    "#Write a NumPy program to create a 3x3 matrix with values ranging from 0 to 8.\n",
    "a=np.arange(0,9)\n",
    "print(a)\n",
    "a.reshape(3,3)\n"
   ]
  },
  {
   "cell_type": "code",
   "execution_count": 80,
   "metadata": {},
   "outputs": [
    {
     "name": "stdout",
     "output_type": "stream",
     "text": [
      "[0 2 4 6 8]\n",
      "[8 6 4 2 0]\n"
     ]
    }
   ],
   "source": [
    "#Write a NumPy program to reverse an array (first element becomes the last).\n",
    "b=np.arange(0,10,2)\n",
    "print(b)\n",
    "rev_arr=np.flipud(b)\n",
    "print(rev_arr)"
   ]
  },
  {
   "cell_type": "code",
   "execution_count": 81,
   "metadata": {},
   "outputs": [
    {
     "name": "stdout",
     "output_type": "stream",
     "text": [
      "[ 1  2  3  4  5  6  7  8  9 10 11 12]\n",
      "[ 1  3  5  7  9 11]\n"
     ]
    }
   ],
   "source": [
    "#Write a NumPy program to extract all odd numbers from an array.\n",
    "a=np.array([1,2,3,4,5,6,7,8,9,10,11,12])\n",
    "print(a)\n",
    "b=a[a%2==1]\n",
    "print(b)\n",
    "\n"
   ]
  },
  {
   "cell_type": "code",
   "execution_count": 82,
   "metadata": {},
   "outputs": [
    {
     "name": "stdout",
     "output_type": "stream",
     "text": [
      "[1 2 3 4 5 6 7 8 9]\n",
      "[[1 2 3]\n",
      " [4 5 6]\n",
      " [7 8 9]]\n",
      "45\n",
      "[12 15 18]\n",
      "Sum of each row:\n",
      "[ 6 15 24]\n",
      "5.0\n",
      "2.581988897471611\n"
     ]
    }
   ],
   "source": [
    "#Write a NumPy program to compute the sum of all elements, mean, and standard deviation of a given array.\n",
    "a=np.arange(1,10)\n",
    "print(a)\n",
    "b=a.reshape(3,3)\n",
    "print(b)\n",
    "print(np.sum(b))\n",
    "print(np.sum(b, axis=0))\n",
    "print(\"Sum of each row:\")\n",
    "print(np.sum(b, axis=1))\n",
    "print(np.mean(b))\n",
    "print(np.std(b))"
   ]
  },
  {
   "cell_type": "code",
   "execution_count": 83,
   "metadata": {},
   "outputs": [
    {
     "name": "stdout",
     "output_type": "stream",
     "text": [
      "[10 49 17 30 27 11 44 11 13  5 21 31 35 21  8 35  4 26 26 34  8 40 23 13\n",
      " 44]\n",
      "[[10 49 17 30 27]\n",
      " [11 44 11 13  5]\n",
      " [21 31 35 21  8]\n",
      " [35  4 26 26 34]\n",
      " [ 8 40 23 13 44]]\n",
      "4\n",
      "49\n"
     ]
    }
   ],
   "source": [
    "#Write a NumPy program to create a 5x5 matrix with random values and find the minimum and maximum values.\n",
    "c=np.random.randint(1,50,25)\n",
    "print(c)\n",
    "b=c.reshape(5,5)\n",
    "print(b)\n",
    "n=np.min(b)\n",
    "print(n)\n",
    "m=np.max(b)\n",
    "print(m)\n"
   ]
  },
  {
   "cell_type": "code",
   "execution_count": 84,
   "metadata": {},
   "outputs": [
    {
     "name": "stdout",
     "output_type": "stream",
     "text": [
      "Original array:\n",
      "[[1. 1. 1. 1. 1.]\n",
      " [1. 1. 1. 1. 1.]\n",
      " [1. 1. 1. 1. 1.]\n",
      " [1. 1. 1. 1. 1.]\n",
      " [1. 1. 1. 1. 1.]]\n",
      "1 on the border and 0 inside in the array\n",
      "[[1. 1. 1. 1. 1.]\n",
      " [1. 0. 0. 0. 1.]\n",
      " [1. 0. 0. 0. 1.]\n",
      " [1. 0. 0. 0. 1.]\n",
      " [1. 1. 1. 1. 1.]]\n"
     ]
    }
   ],
   "source": [
    "#Write a NumPy program to create a 2D array with 1 on the border and 0 inside.\n",
    "x = np.ones((5,5))\n",
    "print(\"Original array:\")\n",
    "print(x)\n",
    "print(\"1 on the border and 0 inside in the array\")\n",
    "x[1:-1,1:-1] = 0\n",
    "print(x)"
   ]
  },
  {
   "cell_type": "code",
   "execution_count": 85,
   "metadata": {},
   "outputs": [
    {
     "name": "stdout",
     "output_type": "stream",
     "text": [
      "[12  7  4  1  4  1  5  5  9]\n",
      "[[12  7  4]\n",
      " [ 1  4  1]\n",
      " [ 5  5  9]]\n",
      "[1 2 3 4 5 6 7 8 9]\n",
      "[[1 2 3]\n",
      " [4 5 6]\n",
      " [7 8 9]]\n",
      "[[12 14 12]\n",
      " [ 4 20  6]\n",
      " [35 40 81]]\n"
     ]
    }
   ],
   "source": [
    "#Write a NumPy program to multiply two given matrices.\n",
    "a=np.random.randint(1,20,9)\n",
    "print(a)\n",
    "b=a.reshape(3,3)\n",
    "print(b)\n",
    "c=np.arange(1,10)\n",
    "print(c)\n",
    "d=c.reshape(3,3)\n",
    "print(d)\n",
    "\n",
    "f=b*d\n",
    "\n",
    "print(f)\n",
    "\n"
   ]
  },
  {
   "cell_type": "code",
   "execution_count": 86,
   "metadata": {},
   "outputs": [
    {
     "name": "stdout",
     "output_type": "stream",
     "text": [
      "[ 5  2 10  9  4 11 17  9  1 18]\n",
      "[16  9 19  4  6  4 14  4 10  9]\n",
      "[ 6 14 16 19]\n"
     ]
    }
   ],
   "source": [
    "#Write a NumPy program to find the unique elements of an array.\n",
    "n1=np.random.randint(1,20,10)\n",
    "print(n1)\n",
    "n2=np.random.randint(1,20,10)\n",
    "print(n2)\n",
    "n3=np.setdiff1d(n2,n1)\n",
    "print(n3)"
   ]
  },
  {
   "cell_type": "code",
   "execution_count": 87,
   "metadata": {},
   "outputs": [
    {
     "name": "stdout",
     "output_type": "stream",
     "text": [
      "[1 2 3 4 5 6 7 8 9]\n",
      "[[1 2 3]\n",
      " [4 5 6]\n",
      " [7 8 9]]\n",
      "[1 3 5 7 9]\n"
     ]
    }
   ],
   "source": [
    "#Write a NumPy program to extract the elements in the odd-numbered columns of a 2D array.\n",
    "a=np.arange(1,10)\n",
    "print(a)\n",
    "b=a.reshape(3,3)\n",
    "print(b)\n",
    "c=b[b%2==1]\n",
    "print(c)"
   ]
  },
  {
   "cell_type": "code",
   "execution_count": 88,
   "metadata": {},
   "outputs": [
    {
     "name": "stdout",
     "output_type": "stream",
     "text": [
      "[1 2 3 4 5 6 7 8 9]\n",
      "[[1 2 3]\n",
      " [4 5 6]\n",
      " [7 8 9]]\n",
      "[2 4 6 8]\n"
     ]
    }
   ],
   "source": [
    "#Write a NumPy program to extract the elements in the even-numbered rows of a 2D array.\n",
    "a=np.arange(1,10)\n",
    "print(a)\n",
    "b=a.reshape(3,3)\n",
    "print(b)\n",
    "c=b[b%2==0]\n",
    "print(c)"
   ]
  },
  {
   "cell_type": "code",
   "execution_count": 89,
   "metadata": {},
   "outputs": [
    {
     "name": "stdout",
     "output_type": "stream",
     "text": [
      "[[10  3  2  6]\n",
      " [ 6 12  7 11]\n",
      " [ 4 19  1 11]\n",
      " [ 2 12 13  6]]\n",
      "the first 3 rows are: [[10  3  2]]\n",
      "the columns from index 1 to 4: [[10]\n",
      " [ 6]\n",
      " [ 4]\n",
      " [ 2]]\n"
     ]
    }
   ],
   "source": [
    "#Write a NumPy program to extract a subarray from a given array. The subarray should include the first 3 rows and the columns from index 1 to 4 (inclusive).\n",
    "a=np.random.randint(1,20,(4,4))\n",
    "print(a)\n",
    "print(\"the first 3 rows are:\",a[:1,:3])\n",
    "print('the columns from index 1 to 4:',a[:,:1])\n"
   ]
  },
  {
   "cell_type": "code",
   "execution_count": 90,
   "metadata": {},
   "outputs": [
    {
     "name": "stdout",
     "output_type": "stream",
     "text": [
      "[[14  4 10  8]\n",
      " [ 1  4 16  6]\n",
      " [ 9 16  8  2]\n",
      " [ 6  9 11 16]]\n",
      "[[ 6  9 11 16]\n",
      " [ 9 16  8  2]\n",
      " [ 1  4 16  6]\n",
      " [14  4 10  8]]\n"
     ]
    }
   ],
   "source": [
    "#Write a NumPy program to reverse the order of elements in each column of a 2D array.\n",
    "a=np.random.randint(1,20,(4,4))\n",
    "print(a)\n",
    "\n",
    "b = np.flipud (a)\n",
    "print(b)"
   ]
  },
  {
   "cell_type": "code",
   "execution_count": 91,
   "metadata": {},
   "outputs": [
    {
     "name": "stdout",
     "output_type": "stream",
     "text": [
      "[[ 6 15  5  6]\n",
      " [ 4 18 16 14]\n",
      " [11  4  9 18]\n",
      " [ 9  7  3 16]]\n",
      "None\n"
     ]
    }
   ],
   "source": [
    "#Write a NumPy program to create a diagonal matrix from a given 1D array. The elements below the diagonal should be zero, and the elements above the diagonal should be squared.\n",
    "\n",
    "a=np.random.randint(1,20,(4,4))\n",
    "print(a)\n",
    "x=0\n",
    "b=np.fill_diagonal(a,x)\n",
    "print(b)"
   ]
  },
  {
   "cell_type": "code",
   "execution_count": null,
   "metadata": {},
   "outputs": [],
   "source": []
  }
 ],
 "metadata": {
  "kernelspec": {
   "display_name": "base",
   "language": "python",
   "name": "python3"
  },
  "language_info": {
   "codemirror_mode": {
    "name": "ipython",
    "version": 3
   },
   "file_extension": ".py",
   "mimetype": "text/x-python",
   "name": "python",
   "nbconvert_exporter": "python",
   "pygments_lexer": "ipython3",
   "version": "3.10.10"
  },
  "orig_nbformat": 4
 },
 "nbformat": 4,
 "nbformat_minor": 2
}
